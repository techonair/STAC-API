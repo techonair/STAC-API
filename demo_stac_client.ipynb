{
 "cells": [
  {
   "cell_type": "markdown",
   "id": "7d58e978",
   "metadata": {},
   "source": [
    "# STAC API Client Demo\n",
    "This notebook demonstrates how to search your local STAC API using pystac-client."
   ]
  },
  {
   "cell_type": "code",
   "execution_count": 1,
   "id": "8e45d71a",
   "metadata": {},
   "outputs": [
    {
     "name": "stdout",
     "output_type": "stream",
     "text": [
      "Defaulting to user installation because normal site-packages is not writeable\n",
      "Collecting pystac-client\n",
      "  Downloading pystac_client-0.8.6-py3-none-any.whl.metadata (3.0 kB)\n",
      "Requirement already satisfied: requests>=2.28.2 in c:\\users\\91876\\appdata\\local\\packages\\pythonsoftwarefoundation.python.3.12_qbz5n2kfra8p0\\localcache\\local-packages\\python312\\site-packages (from pystac-client) (2.32.3)\n",
      "Collecting pystac>=1.10.0 (from pystac[validation]>=1.10.0->pystac-client)\n",
      "  Downloading pystac-1.13.0-py3-none-any.whl.metadata (4.7 kB)\n",
      "Requirement already satisfied: python-dateutil>=2.8.2 in c:\\users\\91876\\appdata\\local\\packages\\pythonsoftwarefoundation.python.3.12_qbz5n2kfra8p0\\localcache\\local-packages\\python312\\site-packages (from pystac-client) (2.9.0.post0)\n",
      "Collecting jsonschema~=4.18 (from pystac[validation]>=1.10.0->pystac-client)\n",
      "  Downloading jsonschema-4.24.0-py3-none-any.whl.metadata (7.8 kB)\n",
      "Requirement already satisfied: six>=1.5 in c:\\users\\91876\\appdata\\local\\packages\\pythonsoftwarefoundation.python.3.12_qbz5n2kfra8p0\\localcache\\local-packages\\python312\\site-packages (from python-dateutil>=2.8.2->pystac-client) (1.17.0)\n",
      "Requirement already satisfied: charset-normalizer<4,>=2 in c:\\users\\91876\\appdata\\local\\packages\\pythonsoftwarefoundation.python.3.12_qbz5n2kfra8p0\\localcache\\local-packages\\python312\\site-packages (from requests>=2.28.2->pystac-client) (3.4.1)\n",
      "Requirement already satisfied: idna<4,>=2.5 in c:\\users\\91876\\appdata\\local\\packages\\pythonsoftwarefoundation.python.3.12_qbz5n2kfra8p0\\localcache\\local-packages\\python312\\site-packages (from requests>=2.28.2->pystac-client) (3.10)\n",
      "Requirement already satisfied: urllib3<3,>=1.21.1 in c:\\users\\91876\\appdata\\local\\packages\\pythonsoftwarefoundation.python.3.12_qbz5n2kfra8p0\\localcache\\local-packages\\python312\\site-packages (from requests>=2.28.2->pystac-client) (2.3.0)\n",
      "Requirement already satisfied: certifi>=2017.4.17 in c:\\users\\91876\\appdata\\local\\packages\\pythonsoftwarefoundation.python.3.12_qbz5n2kfra8p0\\localcache\\local-packages\\python312\\site-packages (from requests>=2.28.2->pystac-client) (2024.12.14)\n",
      "Collecting attrs>=22.2.0 (from jsonschema~=4.18->pystac[validation]>=1.10.0->pystac-client)\n",
      "  Downloading attrs-25.3.0-py3-none-any.whl.metadata (10 kB)\n",
      "Collecting jsonschema-specifications>=2023.03.6 (from jsonschema~=4.18->pystac[validation]>=1.10.0->pystac-client)\n",
      "  Downloading jsonschema_specifications-2025.4.1-py3-none-any.whl.metadata (2.9 kB)\n",
      "Collecting referencing>=0.28.4 (from jsonschema~=4.18->pystac[validation]>=1.10.0->pystac-client)\n",
      "  Downloading referencing-0.36.2-py3-none-any.whl.metadata (2.8 kB)\n",
      "Collecting rpds-py>=0.7.1 (from jsonschema~=4.18->pystac[validation]>=1.10.0->pystac-client)\n",
      "  Downloading rpds_py-0.26.0-cp312-cp312-win_amd64.whl.metadata (4.3 kB)\n",
      "Requirement already satisfied: typing-extensions>=4.4.0 in c:\\users\\91876\\appdata\\local\\packages\\pythonsoftwarefoundation.python.3.12_qbz5n2kfra8p0\\localcache\\local-packages\\python312\\site-packages (from referencing>=0.28.4->jsonschema~=4.18->pystac[validation]>=1.10.0->pystac-client) (4.12.2)\n",
      "Downloading pystac_client-0.8.6-py3-none-any.whl (41 kB)\n",
      "Downloading pystac-1.13.0-py3-none-any.whl (206 kB)\n",
      "Downloading jsonschema-4.24.0-py3-none-any.whl (88 kB)\n",
      "Downloading attrs-25.3.0-py3-none-any.whl (63 kB)\n",
      "Downloading jsonschema_specifications-2025.4.1-py3-none-any.whl (18 kB)\n",
      "Downloading referencing-0.36.2-py3-none-any.whl (26 kB)\n",
      "Downloading rpds_py-0.26.0-cp312-cp312-win_amd64.whl (234 kB)\n",
      "Installing collected packages: rpds-py, attrs, referencing, pystac, jsonschema-specifications, jsonschema, pystac-client\n",
      "Successfully installed attrs-25.3.0 jsonschema-4.24.0 jsonschema-specifications-2025.4.1 pystac-1.13.0 pystac-client-0.8.6 referencing-0.36.2 rpds-py-0.26.0\n"
     ]
    },
    {
     "name": "stderr",
     "output_type": "stream",
     "text": [
      "\n",
      "[notice] A new release of pip is available: 25.0 -> 25.1.1\n",
      "[notice] To update, run: C:\\Users\\91876\\AppData\\Local\\Microsoft\\WindowsApps\\PythonSoftwareFoundation.Python.3.12_qbz5n2kfra8p0\\python.exe -m pip install --upgrade pip\n"
     ]
    }
   ],
   "source": [
    "# Install pystac-client if not already installed\n",
    "!pip install pystac-client"
   ]
  },
  {
   "cell_type": "code",
   "execution_count": 10,
   "id": "715582d7",
   "metadata": {},
   "outputs": [
    {
     "name": "stdout",
     "output_type": "stream",
     "text": [
      "Found 3 items\n",
      " - Item ID: S2A_MSIL2A_20231110T100000_N0500_R022_T43PDQ_20231110T120000, Date: 2023-11-10\n",
      " - Item ID: S2A_MSIL2A_20231115T100000_N0500_R022_T43PDR_20231115T120000, Date: 2023-11-15\n",
      " - Item ID: S2A_MSIL2A_20231120T100000_N0500_R022_T43PDS_20231120T120000, Date: 2023-11-20\n"
     ]
    }
   ],
   "source": [
    "from pystac_client import Client\n",
    "# URL of your locally running STAC API\n",
    "API_URL = 'http://localhost:8000/v1/stac/'\n",
    "\n",
    "# Connect to the API\n",
    "catalog = Client.open(API_URL)\n",
    "\n",
    "# Define a bounding box and time range for the search\n",
    "search_bbox = [77.5, 12.9, 77.7, 13.1]  # Example: A box over Bangalore\n",
    "search_datetime = '2023-11-01/2023-11-30'\n",
    "\n",
    "# Perform the search against your POST /search endpoint\n",
    "search = catalog.search(\n",
    "    collections=['sentinel-2-l2a'],\n",
    "    bbox=search_bbox,\n",
    "    datetime=search_datetime,\n",
    "    method='POST'\n",
    ")\n",
    "\n",
    "# Print the number of items found\n",
    "print(f'Found {search.matched()} items')\n",
    "\n",
    "# Print the details of the found items\n",
    "for item in search.items():\n",
    "    print(f' - Item ID: {item.id}, Date: {item.datetime.date()}')"
   ]
  },
  {
   "cell_type": "code",
   "execution_count": 11,
   "id": "1df90daf",
   "metadata": {},
   "outputs": [
    {
     "name": "stdout",
     "output_type": "stream",
     "text": [
      "{\n",
      "  \"type\": \"Feature\",\n",
      "  \"stac_version\": \"1.1.0\",\n",
      "  \"stac_extensions\": [],\n",
      "  \"id\": \"S2A_MSIL2A_20231110T100000_N0500_R022_T43PDQ_20231110T120000\",\n",
      "  \"geometry\": {\n",
      "    \"type\": \"Polygon\",\n",
      "    \"coordinates\": [\n",
      "      [\n",
      "        [\n",
      "          77.5,\n",
      "          12.9\n",
      "        ],\n",
      "        [\n",
      "          77.7,\n",
      "          12.9\n",
      "        ],\n",
      "        [\n",
      "          77.7,\n",
      "          13.1\n",
      "        ],\n",
      "        [\n",
      "          77.5,\n",
      "          13.1\n",
      "        ],\n",
      "        [\n",
      "          77.5,\n",
      "          12.9\n",
      "        ]\n",
      "      ]\n",
      "    ]\n",
      "  },\n",
      "  \"bbox\": [\n",
      "    77.5,\n",
      "    12.9,\n",
      "    77.7,\n",
      "    13.1\n",
      "  ],\n",
      "  \"properties\": {\n",
      "    \"datetime\": \"2023-11-10T10:00:00Z\",\n",
      "    \"collection\": \"sentinel-2-l2a\",\n",
      "    \"description\": \"\"\n",
      "  },\n",
      "  \"links\": [\n",
      "    {\n",
      "      \"rel\": \"root\",\n",
      "      \"href\": \"http://localhost:8000/v1/stac/\",\n",
      "      \"type\": \"application/json\"\n",
      "    }\n",
      "  ],\n",
      "  \"assets\": {\n",
      "    \"thumbnail\": {\n",
      "      \"href\": \"https://roda.sentinel-hub.com/sentinel-s2-l1c/tiles/43/P/DQ/2023/11/10/0/preview.jpg\",\n",
      "      \"type\": \"image/jpeg\",\n",
      "      \"title\": \"Sentinel-2 Thumbnail\"\n",
      "    },\n",
      "    \"metadata\": {\n",
      "      \"href\": \"https://scihub.copernicus.eu/dhus/odata/v1/Products('e1c2b2c0-aaaa-bbbb-cccc-111111111111')/$value\",\n",
      "      \"type\": \"application/zip\",\n",
      "      \"title\": \"Sentinel-2 Metadata\"\n",
      "    }\n",
      "  },\n",
      "  \"collection\": \"sentinel-2-l2a\"\n",
      "}\n"
     ]
    }
   ],
   "source": [
    "# Show the first search result as JSON\n",
    "for item in search.items():\n",
    "    import json\n",
    "    print(json.dumps(item.to_dict(), indent=2))\n",
    "    break  # Show only the first item"
   ]
  }
 ],
 "metadata": {
  "kernelspec": {
   "display_name": "Python 3",
   "language": "python",
   "name": "python3"
  },
  "language_info": {
   "codemirror_mode": {
    "name": "ipython",
    "version": 3
   },
   "file_extension": ".py",
   "mimetype": "text/x-python",
   "name": "python",
   "nbconvert_exporter": "python",
   "pygments_lexer": "ipython3",
   "version": "3.12.10"
  }
 },
 "nbformat": 4,
 "nbformat_minor": 5
}
