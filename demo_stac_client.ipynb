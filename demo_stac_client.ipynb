{
 "cells": [
  {
   "cell_type": "markdown",
   "id": "7d58e978",
   "metadata": {},
   "source": [
    "# STAC API Client Demo\n",
    "This notebook demonstrates how to search your local STAC API using pystac-client."
   ]
  },
  {
   "cell_type": "code",
   "execution_count": 1,
   "id": "8e45d71a",
   "metadata": {},
   "outputs": [
    {
     "name": "stdout",
     "output_type": "stream",
     "text": [
      "Defaulting to user installation because normal site-packages is not writeable\n",
      "Requirement already satisfied: pystac-client in c:\\users\\91876\\appdata\\local\\packages\\pythonsoftwarefoundation.python.3.12_qbz5n2kfra8p0\\localcache\\local-packages\\python312\\site-packages (0.8.6)\n",
      "Requirement already satisfied: requests>=2.28.2 in c:\\users\\91876\\appdata\\local\\packages\\pythonsoftwarefoundation.python.3.12_qbz5n2kfra8p0\\localcache\\local-packages\\python312\\site-packages (from pystac-client) (2.32.3)\n",
      "Requirement already satisfied: pystac>=1.10.0 in c:\\users\\91876\\appdata\\local\\packages\\pythonsoftwarefoundation.python.3.12_qbz5n2kfra8p0\\localcache\\local-packages\\python312\\site-packages (from pystac[validation]>=1.10.0->pystac-client) (1.13.0)\n",
      "Requirement already satisfied: python-dateutil>=2.8.2 in c:\\users\\91876\\appdata\\local\\packages\\pythonsoftwarefoundation.python.3.12_qbz5n2kfra8p0\\localcache\\local-packages\\python312\\site-packages (from pystac-client) (2.9.0.post0)\n",
      "Requirement already satisfied: jsonschema~=4.18 in c:\\users\\91876\\appdata\\local\\packages\\pythonsoftwarefoundation.python.3.12_qbz5n2kfra8p0\\localcache\\local-packages\\python312\\site-packages (from pystac[validation]>=1.10.0->pystac-client) (4.24.0)\n",
      "Requirement already satisfied: six>=1.5 in c:\\users\\91876\\appdata\\local\\packages\\pythonsoftwarefoundation.python.3.12_qbz5n2kfra8p0\\localcache\\local-packages\\python312\\site-packages (from python-dateutil>=2.8.2->pystac-client) (1.17.0)\n",
      "Requirement already satisfied: charset-normalizer<4,>=2 in c:\\users\\91876\\appdata\\local\\packages\\pythonsoftwarefoundation.python.3.12_qbz5n2kfra8p0\\localcache\\local-packages\\python312\\site-packages (from requests>=2.28.2->pystac-client) (3.4.1)\n",
      "Requirement already satisfied: idna<4,>=2.5 in c:\\users\\91876\\appdata\\local\\packages\\pythonsoftwarefoundation.python.3.12_qbz5n2kfra8p0\\localcache\\local-packages\\python312\\site-packages (from requests>=2.28.2->pystac-client) (3.10)\n",
      "Requirement already satisfied: urllib3<3,>=1.21.1 in c:\\users\\91876\\appdata\\local\\packages\\pythonsoftwarefoundation.python.3.12_qbz5n2kfra8p0\\localcache\\local-packages\\python312\\site-packages (from requests>=2.28.2->pystac-client) (2.3.0)\n",
      "Requirement already satisfied: certifi>=2017.4.17 in c:\\users\\91876\\appdata\\local\\packages\\pythonsoftwarefoundation.python.3.12_qbz5n2kfra8p0\\localcache\\local-packages\\python312\\site-packages (from requests>=2.28.2->pystac-client) (2024.12.14)\n",
      "Requirement already satisfied: attrs>=22.2.0 in c:\\users\\91876\\appdata\\local\\packages\\pythonsoftwarefoundation.python.3.12_qbz5n2kfra8p0\\localcache\\local-packages\\python312\\site-packages (from jsonschema~=4.18->pystac[validation]>=1.10.0->pystac-client) (25.3.0)\n",
      "Requirement already satisfied: jsonschema-specifications>=2023.03.6 in c:\\users\\91876\\appdata\\local\\packages\\pythonsoftwarefoundation.python.3.12_qbz5n2kfra8p0\\localcache\\local-packages\\python312\\site-packages (from jsonschema~=4.18->pystac[validation]>=1.10.0->pystac-client) (2025.4.1)\n",
      "Requirement already satisfied: referencing>=0.28.4 in c:\\users\\91876\\appdata\\local\\packages\\pythonsoftwarefoundation.python.3.12_qbz5n2kfra8p0\\localcache\\local-packages\\python312\\site-packages (from jsonschema~=4.18->pystac[validation]>=1.10.0->pystac-client) (0.36.2)\n",
      "Requirement already satisfied: rpds-py>=0.7.1 in c:\\users\\91876\\appdata\\local\\packages\\pythonsoftwarefoundation.python.3.12_qbz5n2kfra8p0\\localcache\\local-packages\\python312\\site-packages (from jsonschema~=4.18->pystac[validation]>=1.10.0->pystac-client) (0.26.0)\n",
      "Requirement already satisfied: typing-extensions>=4.4.0 in c:\\users\\91876\\appdata\\local\\packages\\pythonsoftwarefoundation.python.3.12_qbz5n2kfra8p0\\localcache\\local-packages\\python312\\site-packages (from referencing>=0.28.4->jsonschema~=4.18->pystac[validation]>=1.10.0->pystac-client) (4.12.2)\n"
     ]
    },
    {
     "name": "stderr",
     "output_type": "stream",
     "text": [
      "\n",
      "[notice] A new release of pip is available: 25.0 -> 25.1.1\n",
      "[notice] To update, run: C:\\Users\\91876\\AppData\\Local\\Microsoft\\WindowsApps\\PythonSoftwareFoundation.Python.3.12_qbz5n2kfra8p0\\python.exe -m pip install --upgrade pip\n"
     ]
    }
   ],
   "source": [
    "# Install pystac-client if not already installed\n",
    "!pip install pystac-client"
   ]
  },
  {
   "cell_type": "code",
   "execution_count": 6,
   "id": "715582d7",
   "metadata": {},
   "outputs": [
    {
     "ename": "APIError",
     "evalue": "{\"detail\":\"Not Found\"}",
     "output_type": "error",
     "traceback": [
      "\u001b[31m---------------------------------------------------------------------------\u001b[39m",
      "\u001b[31mAPIError\u001b[39m                                  Traceback (most recent call last)",
      "\u001b[36mCell\u001b[39m\u001b[36m \u001b[39m\u001b[32mIn[6]\u001b[39m\u001b[32m, line 6\u001b[39m\n\u001b[32m      3\u001b[39m API_URL = \u001b[33m'\u001b[39m\u001b[33mhttp://localhost:8000/v1/stac/\u001b[39m\u001b[33m'\u001b[39m\n\u001b[32m      5\u001b[39m \u001b[38;5;66;03m# Connect to the API\u001b[39;00m\n\u001b[32m----> \u001b[39m\u001b[32m6\u001b[39m catalog = \u001b[43mClient\u001b[49m\u001b[43m.\u001b[49m\u001b[43mopen\u001b[49m\u001b[43m(\u001b[49m\u001b[43mAPI_URL\u001b[49m\u001b[43m)\u001b[49m\n\u001b[32m      8\u001b[39m \u001b[38;5;66;03m# Define a bounding box and time range for the search\u001b[39;00m\n\u001b[32m      9\u001b[39m search_bbox = [\u001b[32m77.5\u001b[39m, \u001b[32m12.9\u001b[39m, \u001b[32m77.7\u001b[39m, \u001b[32m13.1\u001b[39m]  \u001b[38;5;66;03m# Example: A box over Bangalore\u001b[39;00m\n",
      "\u001b[36mFile \u001b[39m\u001b[32m~\\AppData\\Local\\Packages\\PythonSoftwareFoundation.Python.3.12_qbz5n2kfra8p0\\LocalCache\\local-packages\\Python312\\site-packages\\pystac_client\\client.py:165\u001b[39m, in \u001b[36mClient.open\u001b[39m\u001b[34m(cls, url, headers, parameters, ignore_conformance, modifier, request_modifier, stac_io, timeout)\u001b[39m\n\u001b[32m     93\u001b[39m \u001b[38;5;129m@classmethod\u001b[39m\n\u001b[32m     94\u001b[39m \u001b[38;5;28;01mdef\u001b[39;00m\u001b[38;5;250m \u001b[39m\u001b[34mopen\u001b[39m(\n\u001b[32m     95\u001b[39m     \u001b[38;5;28mcls\u001b[39m,\n\u001b[32m   (...)\u001b[39m\u001b[32m    103\u001b[39m     timeout: Timeout | \u001b[38;5;28;01mNone\u001b[39;00m = \u001b[38;5;28;01mNone\u001b[39;00m,\n\u001b[32m    104\u001b[39m ) -> \u001b[33m\"\u001b[39m\u001b[33mClient\u001b[39m\u001b[33m\"\u001b[39m:\n\u001b[32m    105\u001b[39m \u001b[38;5;250m    \u001b[39m\u001b[33;03m\"\"\"Opens a STAC Catalog or API\u001b[39;00m\n\u001b[32m    106\u001b[39m \u001b[33;03m    This function will read the root catalog of a STAC Catalog or API\u001b[39;00m\n\u001b[32m    107\u001b[39m \n\u001b[32m   (...)\u001b[39m\u001b[32m    163\u001b[39m \u001b[33;03m        catalog : A :class:`Client` instance for this Catalog/API\u001b[39;00m\n\u001b[32m    164\u001b[39m \u001b[33;03m    \"\"\"\u001b[39;00m\n\u001b[32m--> \u001b[39m\u001b[32m165\u001b[39m     client: Client = \u001b[38;5;28;43mcls\u001b[39;49m\u001b[43m.\u001b[49m\u001b[43mfrom_file\u001b[49m\u001b[43m(\u001b[49m\n\u001b[32m    166\u001b[39m \u001b[43m        \u001b[49m\u001b[43murl\u001b[49m\u001b[43m,\u001b[49m\n\u001b[32m    167\u001b[39m \u001b[43m        \u001b[49m\u001b[43mheaders\u001b[49m\u001b[43m=\u001b[49m\u001b[43mheaders\u001b[49m\u001b[43m,\u001b[49m\n\u001b[32m    168\u001b[39m \u001b[43m        \u001b[49m\u001b[43mparameters\u001b[49m\u001b[43m=\u001b[49m\u001b[43mparameters\u001b[49m\u001b[43m,\u001b[49m\n\u001b[32m    169\u001b[39m \u001b[43m        \u001b[49m\u001b[43mmodifier\u001b[49m\u001b[43m=\u001b[49m\u001b[43mmodifier\u001b[49m\u001b[43m,\u001b[49m\n\u001b[32m    170\u001b[39m \u001b[43m        \u001b[49m\u001b[43mrequest_modifier\u001b[49m\u001b[43m=\u001b[49m\u001b[43mrequest_modifier\u001b[49m\u001b[43m,\u001b[49m\n\u001b[32m    171\u001b[39m \u001b[43m        \u001b[49m\u001b[43mstac_io\u001b[49m\u001b[43m=\u001b[49m\u001b[43mstac_io\u001b[49m\u001b[43m,\u001b[49m\n\u001b[32m    172\u001b[39m \u001b[43m        \u001b[49m\u001b[43mtimeout\u001b[49m\u001b[43m=\u001b[49m\u001b[43mtimeout\u001b[49m\u001b[43m,\u001b[49m\n\u001b[32m    173\u001b[39m \u001b[43m    \u001b[49m\u001b[43m)\u001b[49m\n\u001b[32m    175\u001b[39m     \u001b[38;5;28;01mif\u001b[39;00m ignore_conformance \u001b[38;5;129;01mis\u001b[39;00m \u001b[38;5;129;01mnot\u001b[39;00m \u001b[38;5;28;01mNone\u001b[39;00m:\n\u001b[32m    176\u001b[39m         warnings.warn(\n\u001b[32m    177\u001b[39m             (\n\u001b[32m    178\u001b[39m                 \u001b[33m\"\u001b[39m\u001b[33mThe `ignore_conformance` option is deprecated and will be \u001b[39m\u001b[33m\"\u001b[39m\n\u001b[32m   (...)\u001b[39m\u001b[32m    182\u001b[39m             \u001b[38;5;167;01mFutureWarning\u001b[39;00m,\n\u001b[32m    183\u001b[39m         )\n",
      "\u001b[36mFile \u001b[39m\u001b[32m~\\AppData\\Local\\Packages\\PythonSoftwareFoundation.Python.3.12_qbz5n2kfra8p0\\LocalCache\\local-packages\\Python312\\site-packages\\pystac_client\\client.py:221\u001b[39m, in \u001b[36mClient.from_file\u001b[39m\u001b[34m(cls, href, stac_io, headers, parameters, modifier, request_modifier, timeout)\u001b[39m\n\u001b[32m    213\u001b[39m \u001b[38;5;28;01melse\u001b[39;00m:\n\u001b[32m    214\u001b[39m     stac_io.update(\n\u001b[32m    215\u001b[39m         headers=headers,\n\u001b[32m    216\u001b[39m         parameters=parameters,\n\u001b[32m    217\u001b[39m         request_modifier=request_modifier,\n\u001b[32m    218\u001b[39m         timeout=timeout,\n\u001b[32m    219\u001b[39m     )\n\u001b[32m--> \u001b[39m\u001b[32m221\u001b[39m client: Client = \u001b[38;5;28;43msuper\u001b[39;49m\u001b[43m(\u001b[49m\u001b[43m)\u001b[49m\u001b[43m.\u001b[49m\u001b[43mfrom_file\u001b[49m\u001b[43m(\u001b[49m\u001b[43mhref\u001b[49m\u001b[43m,\u001b[49m\u001b[43m \u001b[49m\u001b[43mstac_io\u001b[49m\u001b[43m)\u001b[49m\n\u001b[32m    222\u001b[39m client.modifier = modifier\n\u001b[32m    224\u001b[39m \u001b[38;5;28;01mreturn\u001b[39;00m client\n",
      "\u001b[36mFile \u001b[39m\u001b[32m~\\AppData\\Local\\Packages\\PythonSoftwareFoundation.Python.3.12_qbz5n2kfra8p0\\LocalCache\\local-packages\\Python312\\site-packages\\pystac\\catalog.py:1283\u001b[39m, in \u001b[36mCatalog.from_file\u001b[39m\u001b[34m(cls, href, stac_io)\u001b[39m\n\u001b[32m   1280\u001b[39m \u001b[38;5;28;01mif\u001b[39;00m stac_io \u001b[38;5;129;01mis\u001b[39;00m \u001b[38;5;28;01mNone\u001b[39;00m:\n\u001b[32m   1281\u001b[39m     stac_io = pystac.StacIO.default()\n\u001b[32m-> \u001b[39m\u001b[32m1283\u001b[39m result = \u001b[38;5;28;43msuper\u001b[39;49m\u001b[43m(\u001b[49m\u001b[43m)\u001b[49m\u001b[43m.\u001b[49m\u001b[43mfrom_file\u001b[49m\u001b[43m(\u001b[49m\u001b[43mhref\u001b[49m\u001b[43m,\u001b[49m\u001b[43m \u001b[49m\u001b[43mstac_io\u001b[49m\u001b[43m)\u001b[49m\n\u001b[32m   1284\u001b[39m result._stac_io = stac_io\n\u001b[32m   1286\u001b[39m \u001b[38;5;28;01mreturn\u001b[39;00m result\n",
      "\u001b[36mFile \u001b[39m\u001b[32m~\\AppData\\Local\\Packages\\PythonSoftwareFoundation.Python.3.12_qbz5n2kfra8p0\\LocalCache\\local-packages\\Python312\\site-packages\\pystac\\stac_object.py:632\u001b[39m, in \u001b[36mSTACObject.from_file\u001b[39m\u001b[34m(cls, href, stac_io)\u001b[39m\n\u001b[32m    629\u001b[39m \u001b[38;5;28;01mif\u001b[39;00m \u001b[38;5;129;01mnot\u001b[39;00m is_absolute_href(href):\n\u001b[32m    630\u001b[39m     href = make_absolute_href(href)\n\u001b[32m--> \u001b[39m\u001b[32m632\u001b[39m d = \u001b[43mstac_io\u001b[49m\u001b[43m.\u001b[49m\u001b[43mread_json\u001b[49m\u001b[43m(\u001b[49m\u001b[43mhref\u001b[49m\u001b[43m)\u001b[49m\n\u001b[32m    633\u001b[39m o = \u001b[38;5;28mcls\u001b[39m.from_dict(d, href=href, migrate=\u001b[38;5;28;01mTrue\u001b[39;00m, preserve_dict=\u001b[38;5;28;01mFalse\u001b[39;00m)\n\u001b[32m    635\u001b[39m \u001b[38;5;66;03m# If this is a root catalog, set the root to the catalog instance.\u001b[39;00m\n",
      "\u001b[36mFile \u001b[39m\u001b[32m~\\AppData\\Local\\Packages\\PythonSoftwareFoundation.Python.3.12_qbz5n2kfra8p0\\LocalCache\\local-packages\\Python312\\site-packages\\pystac\\stac_io.py:206\u001b[39m, in \u001b[36mStacIO.read_json\u001b[39m\u001b[34m(self, source, *args, **kwargs)\u001b[39m\n\u001b[32m    189\u001b[39m \u001b[38;5;28;01mdef\u001b[39;00m\u001b[38;5;250m \u001b[39m\u001b[34mread_json\u001b[39m(\u001b[38;5;28mself\u001b[39m, source: HREF, *args: Any, **kwargs: Any) -> \u001b[38;5;28mdict\u001b[39m[\u001b[38;5;28mstr\u001b[39m, Any]:\n\u001b[32m    190\u001b[39m \u001b[38;5;250m    \u001b[39m\u001b[33;03m\"\"\"Read a dict from the given source.\u001b[39;00m\n\u001b[32m    191\u001b[39m \n\u001b[32m    192\u001b[39m \u001b[33;03m    See :func:`StacIO.read_text <pystac.StacIO.read_text>` for usage of\u001b[39;00m\n\u001b[32m   (...)\u001b[39m\u001b[32m    204\u001b[39m \u001b[33;03m        given source.\u001b[39;00m\n\u001b[32m    205\u001b[39m \u001b[33;03m    \"\"\"\u001b[39;00m\n\u001b[32m--> \u001b[39m\u001b[32m206\u001b[39m     txt = \u001b[38;5;28;43mself\u001b[39;49m\u001b[43m.\u001b[49m\u001b[43mread_text\u001b[49m\u001b[43m(\u001b[49m\u001b[43msource\u001b[49m\u001b[43m,\u001b[49m\u001b[43m \u001b[49m\u001b[43m*\u001b[49m\u001b[43margs\u001b[49m\u001b[43m,\u001b[49m\u001b[43m \u001b[49m\u001b[43m*\u001b[49m\u001b[43m*\u001b[49m\u001b[43mkwargs\u001b[49m\u001b[43m)\u001b[49m\n\u001b[32m    207\u001b[39m     \u001b[38;5;28;01mreturn\u001b[39;00m \u001b[38;5;28mself\u001b[39m.json_loads(txt)\n",
      "\u001b[36mFile \u001b[39m\u001b[32m~\\AppData\\Local\\Packages\\PythonSoftwareFoundation.Python.3.12_qbz5n2kfra8p0\\LocalCache\\local-packages\\Python312\\site-packages\\pystac_client\\stac_api_io.py:167\u001b[39m, in \u001b[36mStacApiIO.read_text\u001b[39m\u001b[34m(self, source, *args, **kwargs)\u001b[39m\n\u001b[32m    165\u001b[39m href = \u001b[38;5;28mstr\u001b[39m(source)\n\u001b[32m    166\u001b[39m \u001b[38;5;28;01mif\u001b[39;00m _is_url(href):\n\u001b[32m--> \u001b[39m\u001b[32m167\u001b[39m     \u001b[38;5;28;01mreturn\u001b[39;00m \u001b[38;5;28;43mself\u001b[39;49m\u001b[43m.\u001b[49m\u001b[43mrequest\u001b[49m\u001b[43m(\u001b[49m\u001b[43mhref\u001b[49m\u001b[43m,\u001b[49m\u001b[43m \u001b[49m\u001b[43m*\u001b[49m\u001b[43margs\u001b[49m\u001b[43m,\u001b[49m\u001b[43m \u001b[49m\u001b[43m*\u001b[49m\u001b[43m*\u001b[49m\u001b[43mkwargs\u001b[49m\u001b[43m)\u001b[49m\n\u001b[32m    168\u001b[39m \u001b[38;5;28;01melse\u001b[39;00m:\n\u001b[32m    169\u001b[39m     \u001b[38;5;28;01mwith\u001b[39;00m \u001b[38;5;28mopen\u001b[39m(href) \u001b[38;5;28;01mas\u001b[39;00m f:\n",
      "\u001b[36mFile \u001b[39m\u001b[32m~\\AppData\\Local\\Packages\\PythonSoftwareFoundation.Python.3.12_qbz5n2kfra8p0\\LocalCache\\local-packages\\Python312\\site-packages\\pystac_client\\stac_api_io.py:219\u001b[39m, in \u001b[36mStacApiIO.request\u001b[39m\u001b[34m(self, href, method, headers, parameters)\u001b[39m\n\u001b[32m    217\u001b[39m     \u001b[38;5;28;01mraise\u001b[39;00m APIError(\u001b[38;5;28mstr\u001b[39m(err))\n\u001b[32m    218\u001b[39m \u001b[38;5;28;01mif\u001b[39;00m resp.status_code != \u001b[32m200\u001b[39m:\n\u001b[32m--> \u001b[39m\u001b[32m219\u001b[39m     \u001b[38;5;28;01mraise\u001b[39;00m APIError.from_response(resp)\n\u001b[32m    220\u001b[39m \u001b[38;5;28;01mtry\u001b[39;00m:\n\u001b[32m    221\u001b[39m     \u001b[38;5;28;01mreturn\u001b[39;00m resp.content.decode(\u001b[33m\"\u001b[39m\u001b[33mutf-8\u001b[39m\u001b[33m\"\u001b[39m)\n",
      "\u001b[31mAPIError\u001b[39m: {\"detail\":\"Not Found\"}"
     ]
    }
   ],
   "source": [
    "from pystac_client import Client\n",
    "# URL of your locally running STAC API\n",
    "API_URL = 'http://localhost:8000/v1/stac/'\n",
    "\n",
    "# Connect to the API\n",
    "catalog = Client.open(API_URL)\n",
    "\n",
    "# Define a bounding box and time range for the search\n",
    "search_bbox = [77.5, 12.9, 77.7, 13.1]  # Example: A box over Bangalore\n",
    "search_datetime = '2023-11-01/2023-11-30'\n",
    "\n",
    "# Perform the search against your POST /search endpoint\n",
    "search = catalog.search(\n",
    "    collections=['sentinel-2-l2a'],\n",
    "    bbox=search_bbox,\n",
    "    datetime=search_datetime,\n",
    "    method='POST'\n",
    ")\n",
    "\n",
    "# Print the number of items found\n",
    "print(f'Found {search.matched()} items')\n",
    "\n",
    "# Print the details of the found items\n",
    "for item in search.items():\n",
    "    print(f' - Item ID: {item.id}, Date: {item.datetime.date()}')"
   ]
  },
  {
   "cell_type": "code",
   "execution_count": null,
   "id": "c9d9c106",
   "metadata": {},
   "outputs": [],
   "source": []
  },
  {
   "cell_type": "code",
   "execution_count": null,
   "id": "1df90daf",
   "metadata": {},
   "outputs": [],
   "source": [
    "# Show the first search result as JSON\n",
    "for item in search.items():\n",
    "    import json\n",
    "    print(json.dumps(item.to_dict(), indent=2))\n",
    "    break  # Show only the first item"
   ]
  }
 ],
 "metadata": {
  "kernelspec": {
   "display_name": "Python 3",
   "language": "python",
   "name": "python3"
  },
  "language_info": {
   "codemirror_mode": {
    "name": "ipython",
    "version": 3
   },
   "file_extension": ".py",
   "mimetype": "text/x-python",
   "name": "python",
   "nbconvert_exporter": "python",
   "pygments_lexer": "ipython3",
   "version": "3.12.10"
  }
 },
 "nbformat": 4,
 "nbformat_minor": 5
}
